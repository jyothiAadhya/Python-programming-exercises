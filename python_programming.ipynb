{
 "cells": [
  {
   "cell_type": "code",
   "execution_count": 1,
   "metadata": {},
   "outputs": [
    {
     "name": "stdout",
     "output_type": "stream",
     "text": [
      "the type of a is: <class 'int'>\n",
      "the type of b is: <class 'float'>\n",
      "the type of b is: <class 'complex'>\n"
     ]
    }
   ],
   "source": [
    "#1 Write a program to demonstrate different number data types in Python#\n",
    "\n",
    "a=10\n",
    "b=10.80\n",
    "c=2.06j\n",
    "print(\"the type of a is:\",type(a))\n",
    "print(\"the type of b is:\",type(b))\n",
    "print(\"the type of b is:\",type(c))"
   ]
  },
  {
   "cell_type": "code",
   "execution_count": 3,
   "metadata": {},
   "outputs": [
    {
     "name": "stdout",
     "output_type": "stream",
     "text": [
      "enter a value10\n",
      "enter b value20\n",
      "add of a and b is: 30\n",
      "sub of a and b is: -10\n",
      "mul of a and b is: 200\n",
      "div of a and b is: 0.5\n",
      "mod of a and b is: 10\n",
      "add of a and b is: 100000000000000000000\n",
      "add of a and b is: 0\n"
     ]
    }
   ],
   "source": [
    "#2 Write a program to perform different Arithmetic Operations on numbers in Python#\n",
    "\n",
    "a=int(input(\"enter a value\"))\n",
    "b=int(input(\"enter b value\"))\n",
    "print(\"add of a and b is:\",a+b)\n",
    "print(\"sub of a and b is:\",a-b)\n",
    "print(\"mul of a and b is:\",a*b)\n",
    "print(\"div of a and b is:\",a/b)\n",
    "print(\"mod of a and b is:\",a%b)\n",
    "print(\"add of a and b is:\",a**b)\n",
    "print(\"add of a and b is:\",a//b)\n"
   ]
  },
  {
   "cell_type": "code",
   "execution_count": 7,
   "metadata": {},
   "outputs": [
    {
     "name": "stdout",
     "output_type": "stream",
     "text": [
      "enter string s1 valuejyothi\n",
      "enter string s2 valueravi\n",
      "concat of s1 and s2 is: jyothiravi\n",
      "accessing subsrt of s1 is: yot\n"
     ]
    }
   ],
   "source": [
    "#3 Write a program to create, concatenate and print a string and accessing sub-string from a given string#\n",
    "\n",
    "s1=input(\"enter string s1 value\")\n",
    "s2=input(\"enter string s2 value\")\n",
    "print(\"concat of s1 and s2 is:\",s1+s2)\n",
    "print(\"accessing subsrt of s1 is:\",s1[1:4])"
   ]
  },
  {
   "cell_type": "code",
   "execution_count": 12,
   "metadata": {},
   "outputs": [
    {
     "name": "stdout",
     "output_type": "stream",
     "text": [
      "Tue Aug 17 19:24:34 India Standard Time 2021\n"
     ]
    }
   ],
   "source": [
    "#4 Write a python script to print the current date in the following format “Sun May 29 02:26:23 IST 2017”#\n",
    "import time; \n",
    "ltime=time.localtime();\n",
    "print(time.strftime(\"%a %b %d %H:%M:%S %Z %Y\",ltime)); "
   ]
  },
  {
   "cell_type": "code",
   "execution_count": 27,
   "metadata": {},
   "outputs": [
    {
     "ename": "NameError",
     "evalue": "name 'list_jyo' is not defined",
     "output_type": "error",
     "traceback": [
      "\u001b[1;31m---------------------------------------------------------------------------\u001b[0m",
      "\u001b[1;31mNameError\u001b[0m                                 Traceback (most recent call last)",
      "\u001b[1;32m<ipython-input-27-528efc0795f6>\u001b[0m in \u001b[0;36m<module>\u001b[1;34m\u001b[0m\n\u001b[0;32m     31\u001b[0m \u001b[1;33m\u001b[0m\u001b[0m\n\u001b[0;32m     32\u001b[0m \u001b[1;32mdel\u001b[0m \u001b[0mlist_jyo\u001b[0m\u001b[1;33m\u001b[0m\u001b[1;33m\u001b[0m\u001b[0m\n\u001b[1;32m---> 33\u001b[1;33m \u001b[0mlist_jyo\u001b[0m\u001b[1;33m\u001b[0m\u001b[1;33m\u001b[0m\u001b[0m\n\u001b[0m\u001b[0;32m     34\u001b[0m \u001b[1;33m\u001b[0m\u001b[0m\n",
      "\u001b[1;31mNameError\u001b[0m: name 'list_jyo' is not defined"
     ]
    }
   ],
   "source": [
    "#5 Write a program to create, append, and remove lists in python.#\n",
    "\n",
    "\n",
    "list_jyo=[4,'aadhya','stykee',2.5,['wipro']]\n",
    "list_jyo\n",
    "\n",
    "#append(used to add one item)\n",
    "\n",
    "list_jyo.append('Ravi')\n",
    "list_jyo\n",
    "\n",
    "#extend(used to add more than one item)\n",
    "\n",
    "list_jyo.extend(['atos','amazon'])\n",
    "\n",
    "list_jyo\n",
    "\n",
    "#del (used to del the items in list and also used to delete entire list)\n",
    "\n",
    "#del first item in list\n",
    "\n",
    "del list_jyo[0]\n",
    "list_jyo\n",
    "\n",
    "#del multiple  items in list\n",
    "\n",
    "del list_jyo[1:5]\n",
    "list_jyo\n",
    "\n",
    "#del entire list\n",
    "\n",
    " list_jyo\n",
    "list_jyo\n",
    "\n"
   ]
  },
  {
   "cell_type": "markdown",
   "metadata": {},
   "source": [
    "# 6. Write a program to demonstrate working with tuples in python."
   ]
  },
  {
   "cell_type": "code",
   "execution_count": 39,
   "metadata": {},
   "outputs": [
    {
     "name": "stdout",
     "output_type": "stream",
     "text": [
      "<class 'tuple'> (3, 'jyo', 20.5)\n",
      "3\n"
     ]
    },
    {
     "ename": "NameError",
     "evalue": "name 'tup_1' is not defined",
     "output_type": "error",
     "traceback": [
      "\u001b[1;31m---------------------------------------------------------------------------\u001b[0m",
      "\u001b[1;31mNameError\u001b[0m                                 Traceback (most recent call last)",
      "\u001b[1;32m<ipython-input-39-ed6af3762577>\u001b[0m in \u001b[0;36m<module>\u001b[1;34m\u001b[0m\n\u001b[0;32m      7\u001b[0m \u001b[1;32mdel\u001b[0m \u001b[0mtup_1\u001b[0m\u001b[1;33m\u001b[0m\u001b[1;33m\u001b[0m\u001b[0m\n\u001b[0;32m      8\u001b[0m \u001b[1;33m\u001b[0m\u001b[0m\n\u001b[1;32m----> 9\u001b[1;33m \u001b[0mtup_1\u001b[0m\u001b[1;33m\u001b[0m\u001b[1;33m\u001b[0m\u001b[0m\n\u001b[0m",
      "\u001b[1;31mNameError\u001b[0m: name 'tup_1' is not defined"
     ]
    }
   ],
   "source": [
    "tup_1=(3,'jyo',20.5)\n",
    "print(type(tup_1),tup_1)\n",
    "\n",
    "print(tup_1[0])\n",
    "\n",
    "\n",
    "del tup_1\n",
    "\n",
    "tup_1\n"
   ]
  },
  {
   "cell_type": "markdown",
   "metadata": {},
   "source": [
    "# 7. Write a program to demonstrate working with dictionaries in python."
   ]
  },
  {
   "cell_type": "code",
   "execution_count": 70,
   "metadata": {},
   "outputs": [
    {
     "name": "stdout",
     "output_type": "stream",
     "text": [
      "jyo\n",
      "ravi\n"
     ]
    },
    {
     "ename": "KeyError",
     "evalue": "3",
     "output_type": "error",
     "traceback": [
      "\u001b[1;31m---------------------------------------------------------------------------\u001b[0m",
      "\u001b[1;31mKeyError\u001b[0m                                  Traceback (most recent call last)",
      "\u001b[1;32m<ipython-input-70-44c9f97d831c>\u001b[0m in \u001b[0;36m<module>\u001b[1;34m\u001b[0m\n\u001b[0;32m     15\u001b[0m \u001b[0mprint\u001b[0m\u001b[1;33m(\u001b[0m\u001b[0mmydict\u001b[0m\u001b[1;33m[\u001b[0m\u001b[1;36m1\u001b[0m\u001b[1;33m]\u001b[0m\u001b[1;33m)\u001b[0m\u001b[1;33m\u001b[0m\u001b[1;33m\u001b[0m\u001b[0m\n\u001b[0;32m     16\u001b[0m \u001b[0mprint\u001b[0m\u001b[1;33m(\u001b[0m\u001b[0mmydict\u001b[0m\u001b[1;33m.\u001b[0m\u001b[0mget\u001b[0m\u001b[1;33m(\u001b[0m\u001b[1;36m2\u001b[0m\u001b[1;33m)\u001b[0m\u001b[1;33m)\u001b[0m\u001b[1;33m\u001b[0m\u001b[1;33m\u001b[0m\u001b[0m\n\u001b[1;32m---> 17\u001b[1;33m \u001b[0mprint\u001b[0m\u001b[1;33m(\u001b[0m\u001b[0mmydict\u001b[0m\u001b[1;33m[\u001b[0m\u001b[1;36m3\u001b[0m\u001b[1;33m]\u001b[0m\u001b[1;33m)\u001b[0m\u001b[1;33m\u001b[0m\u001b[1;33m\u001b[0m\u001b[0m\n\u001b[0m",
      "\u001b[1;31mKeyError\u001b[0m: 3"
     ]
    }
   ],
   "source": [
    "mydict={}\n",
    "mydict={1:'jyo',2:'ravi'}\n",
    "mydict\n",
    "mydict1={'name':'aadhya',1:[1,2,3,4]}\n",
    "mydict\n",
    "\n",
    "#using dic keyword\n",
    "\n",
    "mydict2=dict({'name':'python'})\n",
    "mydict2\n",
    "\n",
    "mydict3=dict([(1,'apple'),(2,'ball')])\n",
    "mydict3\n",
    "\n",
    "print(mydict[1])\n",
    "print(mydict.get(2))\n",
    "print(mydict[3])"
   ]
  },
  {
   "cell_type": "markdown",
   "metadata": {},
   "source": [
    "# 8. Write a python program to find largest of three numbers.\n"
   ]
  },
  {
   "cell_type": "code",
   "execution_count": 78,
   "metadata": {},
   "outputs": [
    {
     "name": "stdout",
     "output_type": "stream",
     "text": [
      "largest among 3 numbers is: 30\n"
     ]
    }
   ],
   "source": [
    "a,b,c=10,20,30\n",
    "a,b,c\n",
    "\n",
    "if (a>=b) and (a>=c):\n",
    "    largest=a\n",
    "elif (b>=a) and (b>=c):\n",
    "    largest=b\n",
    "else:\n",
    "    largest=c\n",
    "\n",
    "print(\"largest among 3 numbers is:\",largest)"
   ]
  },
  {
   "cell_type": "markdown",
   "metadata": {},
   "source": [
    "# 9. Write a Python program to convert temperatures to and from Celsius, Fahrenheit. [ Formula: c = (f-32)(5/9)]"
   ]
  },
  {
   "cell_type": "code",
   "execution_count": 3,
   "metadata": {},
   "outputs": [
    {
     "name": "stdout",
     "output_type": "stream",
     "text": [
      "enter temparature38\n",
      "enter unit('c' for celcius or 'f' for farenheit):f\n",
      "temp in farenheit: 100.4\n"
     ]
    }
   ],
   "source": [
    "temp=float(input(\"enter temparature\"))\n",
    "unit=input(\"enter unit('c' for celcius or 'f' for farenheit):\")\n",
    "\n",
    "if (unit=='c' or unit=='f'):\n",
    "    newtemp=9/5*temp+32\n",
    "    print(\"temp in farenheit:\",newtemp)\n",
    "elif (unit =='c' or unit=='f'):\n",
    "    newtemp=5/9*temp-32\n",
    "    print(\"temp in celcius:\",newtemp)\n",
    "else:\n",
    "    print(\"unknow unit\",unit)"
   ]
  },
  {
   "cell_type": "markdown",
   "metadata": {},
   "source": [
    "# 10. Write a Python program to construct the following pattern, using a nested for loop"
   ]
  },
  {
   "cell_type": "code",
   "execution_count": 13,
   "metadata": {},
   "outputs": [
    {
     "name": "stdout",
     "output_type": "stream",
     "text": [
      "\n",
      "*  \n",
      "*  *  \n",
      "*  *  *  \n",
      "*  *  *  *  \n",
      "*  *  *  *  *  \n",
      "*  *  *  *  \n",
      "*  *  *  \n",
      "*  *  \n",
      "*  \n",
      "\n",
      "* \n",
      "* * \n",
      "* * * \n",
      "* * * * \n",
      "* * * * * \n",
      "* * * * \n",
      "* * * \n",
      "* * \n",
      "* \n"
     ]
    }
   ],
   "source": [
    "n=5;\n",
    "for i in range(n):\n",
    "    for j in range(i):\n",
    "        print('* ' , end=\" \")\n",
    "    print('')\n",
    "\n",
    "for i in range(n,0,-1):\n",
    "    for j in range(i):\n",
    "        print('* ' , end=\" \")\n",
    "    print('')   \n",
    "    \n",
    "    \n",
    "    \n",
    "#using if -else\n",
    "\n",
    "n = 10\n",
    "for i in range(10):\n",
    "    if i <=5:\n",
    "        print('* ' *i)\n",
    "    elif i > 5:\n",
    "        print('* ' * (n - i))\n",
    "        "
   ]
  },
  {
   "cell_type": "markdown",
   "metadata": {},
   "source": [
    "# 11. Write a Python script that prints prime numbers less than 20."
   ]
  },
  {
   "cell_type": "code",
   "execution_count": null,
   "metadata": {},
   "outputs": [],
   "source": [
    "\n"
   ]
  }
 ],
 "metadata": {
  "kernelspec": {
   "display_name": "Python 3",
   "language": "python",
   "name": "python3"
  },
  "language_info": {
   "codemirror_mode": {
    "name": "ipython",
    "version": 3
   },
   "file_extension": ".py",
   "mimetype": "text/x-python",
   "name": "python",
   "nbconvert_exporter": "python",
   "pygments_lexer": "ipython3",
   "version": "3.7.6"
  }
 },
 "nbformat": 4,
 "nbformat_minor": 4
}
