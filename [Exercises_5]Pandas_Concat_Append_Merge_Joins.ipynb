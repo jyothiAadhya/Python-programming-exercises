{
  "nbformat": 4,
  "nbformat_minor": 0,
  "metadata": {
    "colab": {
      "name": "[Exercises-5]Pandas-Concat-Append-Merge-Joins.ipynb",
      "provenance": [],
      "collapsed_sections": [],
      "include_colab_link": true
    },
    "kernelspec": {
      "display_name": "Python 3",
      "language": "python",
      "name": "python3"
    },
    "language_info": {
      "codemirror_mode": {
        "name": "ipython",
        "version": 3
      },
      "file_extension": ".py",
      "mimetype": "text/x-python",
      "name": "python",
      "nbconvert_exporter": "python",
      "pygments_lexer": "ipython3",
      "version": "3.7.3"
    }
  },
  "cells": [
    {
      "cell_type": "markdown",
      "metadata": {
        "id": "view-in-github",
        "colab_type": "text"
      },
      "source": [
        "<a href=\"https://colab.research.google.com/github/jyothiAadhya/Python-programming-exercises/blob/master/%5BExercises_5%5DPandas_Concat_Append_Merge_Joins.ipynb\" target=\"_parent\"><img src=\"https://colab.research.google.com/assets/colab-badge.svg\" alt=\"Open In Colab\"/></a>"
      ]
    },
    {
      "cell_type": "markdown",
      "metadata": {
        "id": "wb0PmFpoG9ay"
      },
      "source": [
        "![sslogo](https://github.com/stratascratch/stratascratch.github.io/raw/master/assets/sslogo.jpg)"
      ]
    },
    {
      "cell_type": "markdown",
      "metadata": {
        "id": "u4FCtjigWA6-"
      },
      "source": [
        "#### The make_df helper function will be used to generate DataFrames"
      ]
    },
    {
      "cell_type": "code",
      "metadata": {
        "id": "W1kGox_iWA6_"
      },
      "source": [
        "def make_df(cols, ind):\n",
        "    \"\"\"Quickly make a DataFrame\"\"\"\n",
        "    data = {c: [str(c) + str(i) for i in ind]\n",
        "            for c in cols}\n",
        "    return pd.DataFrame(data, ind)"
      ],
      "execution_count": null,
      "outputs": []
    },
    {
      "cell_type": "markdown",
      "metadata": {
        "id": "Kdg-YPf3WA7D"
      },
      "source": [
        "#### For results requiring multiple tables, use the display class to format your results"
      ]
    },
    {
      "cell_type": "code",
      "metadata": {
        "id": "bd-xl9okWA7E"
      },
      "source": [
        "class display(object):\n",
        "    \"\"\"Display HTML representation of multiple objects\"\"\"\n",
        "    template = \"\"\"<div style=\"float: left; padding: 10px;\">\n",
        "    <p style='font-family:\"Courier New\", Courier, monospace'>{0}</p>{1}\n",
        "    </div>\"\"\"\n",
        "    def __init__(self, *args):\n",
        "        self.args = args\n",
        "        \n",
        "    def _repr_html_(self):\n",
        "        return '\\n'.join(self.template.format(a, eval(a)._repr_html_())\n",
        "                         for a in self.args)\n",
        "    \n",
        "    def __repr__(self):\n",
        "        return '\\n\\n'.join(a + '\\n' + repr(eval(a))\n",
        "                           for a in self.args)\n",
        "    "
      ],
      "execution_count": null,
      "outputs": []
    },
    {
      "cell_type": "markdown",
      "metadata": {
        "id": "AgHcQ_3DWA65"
      },
      "source": [
        "# Combining Datasets: Concat and Append"
      ]
    },
    {
      "cell_type": "markdown",
      "metadata": {
        "id": "JwQVBoOdWA7P"
      },
      "source": [
        "## Simple Concatenation with ``pd.concat``"
      ]
    },
    {
      "cell_type": "code",
      "metadata": {
        "id": "hiw62d1CdrEG"
      },
      "source": [
        "ser1 = pd.Series(['A', 'B', 'C'], index=[1, 2, 3])\n",
        "ser2 = pd.Series(['D', 'E', 'F'], index=[4, 5, 6])"
      ],
      "execution_count": null,
      "outputs": []
    },
    {
      "cell_type": "markdown",
      "metadata": {
        "id": "HCTbofWydrEK"
      },
      "source": [
        "#### Concatenate ser1 and ser2"
      ]
    },
    {
      "cell_type": "code",
      "metadata": {
        "id": "e405KLHlWA7R"
      },
      "source": [
        ""
      ],
      "execution_count": null,
      "outputs": []
    },
    {
      "cell_type": "code",
      "metadata": {
        "id": "s7A0SxZNWA7V"
      },
      "source": [
        "df1 = make_df('AB', [1, 2])\n",
        "df2 = make_df('AB', [3, 4])\n",
        "df3 = make_df('CD', [5, 6])\n",
        "\n",
        "display('df1', 'df2', 'df3')"
      ],
      "execution_count": null,
      "outputs": []
    },
    {
      "cell_type": "markdown",
      "metadata": {
        "id": "Wt1eKwEjdrEW"
      },
      "source": [
        "#### Concatenate df1's and df2's rows"
      ]
    },
    {
      "cell_type": "code",
      "metadata": {
        "id": "U2OVdyDgdrEX"
      },
      "source": [
        ""
      ],
      "execution_count": null,
      "outputs": []
    },
    {
      "cell_type": "markdown",
      "metadata": {
        "id": "HWypK6vnWA7Y"
      },
      "source": [
        "#### Concatenate df1's and df2's columns"
      ]
    },
    {
      "cell_type": "code",
      "metadata": {
        "id": "hnculJknWA7Y"
      },
      "source": [
        ""
      ],
      "execution_count": null,
      "outputs": []
    },
    {
      "cell_type": "markdown",
      "metadata": {
        "id": "YoPwwLBtWA7c"
      },
      "source": [
        "### Duplicate indices"
      ]
    },
    {
      "cell_type": "markdown",
      "metadata": {
        "id": "_y_zbGM5drEl"
      },
      "source": [
        "#### The following concatenation createst a table with repeated indexes. This is an issue that should always be avoided!"
      ]
    },
    {
      "cell_type": "code",
      "metadata": {
        "id": "jG2hqK1CWA7d"
      },
      "source": [
        "x = make_df('AB', [0, 1])\n",
        "y = make_df('AB', [2, 3])\n",
        "y.index = x.index\n",
        "display('x', 'y', 'pd.concat([x, y])')"
      ],
      "execution_count": null,
      "outputs": []
    },
    {
      "cell_type": "markdown",
      "metadata": {
        "id": "SY3dbHSrWA7h"
      },
      "source": [
        "#### Cause the concatenation of x and y to throw an error with the verify_integrity parameter and catch the error. Print a fitting error message"
      ]
    },
    {
      "cell_type": "code",
      "metadata": {
        "id": "nRU5sD_GWA7i"
      },
      "source": [
        ""
      ],
      "execution_count": null,
      "outputs": []
    },
    {
      "cell_type": "markdown",
      "metadata": {
        "id": "MJ4mIv0AWA7q"
      },
      "source": [
        "#### Concatenate x and y. Avoid an overlapping index error by creating a multiindex key"
      ]
    },
    {
      "cell_type": "code",
      "metadata": {
        "id": "YIOQ1GLoWA7q"
      },
      "source": [
        ""
      ],
      "execution_count": null,
      "outputs": []
    },
    {
      "cell_type": "markdown",
      "metadata": {
        "id": "9R5pF9DPWA7l"
      },
      "source": [
        "#### Concatenate x and y. Avoid an overlapping index error by ignoring the original indexes"
      ]
    },
    {
      "cell_type": "code",
      "metadata": {
        "id": "QG_LG1KlWA7m"
      },
      "source": [
        ""
      ],
      "execution_count": null,
      "outputs": []
    },
    {
      "cell_type": "markdown",
      "metadata": {
        "id": "yjb4iO7iWA7v"
      },
      "source": [
        "### Concatenation with joins"
      ]
    },
    {
      "cell_type": "markdown",
      "metadata": {
        "id": "Q7K8uikBdrE3"
      },
      "source": [
        "#### The statements below show the default behavior of pd.concat on DataFrames. What type of join is the default? Add a join parameter with the default join type"
      ]
    },
    {
      "cell_type": "code",
      "metadata": {
        "id": "yMjBJu0BWA7w"
      },
      "source": [
        "df5 = make_df('ABC', [1, 2]) \n",
        "df6 = make_df('BCD', [3, 4])\n",
        "display('df5', 'df6', 'pd.concat([df5, df6], sort=False)')"
      ],
      "execution_count": null,
      "outputs": []
    },
    {
      "cell_type": "markdown",
      "metadata": {
        "id": "VZWolTsDdrE6"
      },
      "source": [
        "#### Perform the above concatenation using the append method\n",
        "\n",
        "Remember: the append method is the specific case (axis=0, join='outer') of the concat method, the parameters cannot be modified"
      ]
    },
    {
      "cell_type": "code",
      "metadata": {
        "id": "BCrZLe52WA79"
      },
      "source": [
        ""
      ],
      "execution_count": null,
      "outputs": []
    },
    {
      "cell_type": "markdown",
      "metadata": {
        "id": "Z-Rmfo5jWA70"
      },
      "source": [
        "#### Concatenate df5 and df6 only keeping the columns from both tables"
      ]
    },
    {
      "cell_type": "code",
      "metadata": {
        "id": "6cTqgtczWA71"
      },
      "source": [
        ""
      ],
      "execution_count": null,
      "outputs": []
    },
    {
      "cell_type": "markdown",
      "metadata": {
        "id": "QYxbAdHzW0_1"
      },
      "source": [
        "# Combining Datasets: Merge and Join"
      ]
    },
    {
      "cell_type": "markdown",
      "metadata": {
        "id": "dWh4lL8udrFN"
      },
      "source": [
        "#### The worker, title, and bonus tables are from a relational database. "
      ]
    },
    {
      "cell_type": "code",
      "metadata": {
        "id": "FBNHBjEqdrFO"
      },
      "source": [
        "#import worker.csv, title.csv, bonus.csv from dataset folder below\n",
        "#https://bit.ly/3gsZdUS\n",
        "\n",
        "#name dataframe with same variable names as below\n",
        "display('worker', 'title', 'bonus')"
      ],
      "execution_count": null,
      "outputs": []
    },
    {
      "cell_type": "markdown",
      "metadata": {
        "id": "_qP5XwrTdrFP"
      },
      "source": [
        "#### The employee DataFrames are part of a seperate relational database"
      ]
    },
    {
      "cell_type": "code",
      "metadata": {
        "id": "csFycGc_drFQ"
      },
      "source": [
        "employee_group = pd.DataFrame({'employee': ['Bob', 'Jake', 'Lisa', 'Sue'],\n",
        "                    'group': ['Accounting', 'Engineering', 'Engineering', 'HR']})\n",
        "employee_hire_date = pd.DataFrame({'employee': ['Lisa', 'Bob', 'Jake', 'Sue'],\n",
        "                    'hire_date': [2004, 2008, 2012, 2014]})\n",
        "display('employee_group', 'employee_hire_date')"
      ],
      "execution_count": null,
      "outputs": []
    },
    {
      "cell_type": "markdown",
      "metadata": {
        "id": "4cG59O5RW0_6"
      },
      "source": [
        "### One-to-one joins"
      ]
    },
    {
      "cell_type": "markdown",
      "metadata": {
        "id": "t6vrg-mCdrFT"
      },
      "source": [
        "#### Merge the employee_group and employee_hire_data tables"
      ]
    },
    {
      "cell_type": "code",
      "metadata": {
        "id": "gj4Wo6vndrFT"
      },
      "source": [
        ""
      ],
      "execution_count": null,
      "outputs": []
    },
    {
      "cell_type": "markdown",
      "metadata": {
        "id": "mraaT3g8drFV"
      },
      "source": [
        "#### Merge the worker and title tables"
      ]
    },
    {
      "cell_type": "code",
      "metadata": {
        "id": "GmJ6Rg8adrFW"
      },
      "source": [
        ""
      ],
      "execution_count": null,
      "outputs": []
    },
    {
      "cell_type": "markdown",
      "metadata": {
        "id": "zrseA2w6W1AC"
      },
      "source": [
        "### Many-to-one joins"
      ]
    },
    {
      "cell_type": "code",
      "metadata": {
        "id": "S3iQpFOiW1AD"
      },
      "source": [
        "employee_supervisor = pd.DataFrame({'group': ['Accounting', 'Engineering', 'HR'],\n",
        "                                    'supervisor': ['Carly', 'Guido', 'Steve']})\n",
        "employee_supervisor"
      ],
      "execution_count": null,
      "outputs": []
    },
    {
      "cell_type": "markdown",
      "metadata": {
        "id": "OC706WxudrFd"
      },
      "source": [
        "#### Merge the employee_group and employee_supervisor tables"
      ]
    },
    {
      "cell_type": "code",
      "metadata": {
        "id": "JyfrhcM3drFe"
      },
      "source": [
        ""
      ],
      "execution_count": null,
      "outputs": []
    },
    {
      "cell_type": "markdown",
      "metadata": {
        "id": "HSZDubD9drFj"
      },
      "source": [
        "#### Merge the worker and bonus tables."
      ]
    },
    {
      "cell_type": "code",
      "metadata": {
        "scrolled": true,
        "id": "pl0JRsO6drFj"
      },
      "source": [
        ""
      ],
      "execution_count": null,
      "outputs": []
    },
    {
      "cell_type": "markdown",
      "metadata": {
        "id": "FaUPywkLW1AF"
      },
      "source": [
        "### Many-to-many joins"
      ]
    },
    {
      "cell_type": "code",
      "metadata": {
        "id": "-EJzUDd9W1AG"
      },
      "source": [
        "employee_skills = pd.DataFrame({'group': ['Accounting', 'Accounting',\n",
        "                                  'Engineering', 'Engineering', 'HR', 'HR'],\n",
        "                                'skills': ['math', 'spreadsheets', 'coding', 'linux',\n",
        "                                  'spreadsheets', 'organization']})\n",
        "employee_skills"
      ],
      "execution_count": null,
      "outputs": []
    },
    {
      "cell_type": "markdown",
      "metadata": {
        "id": "ReDrCLzddrFr"
      },
      "source": [
        "#### Merge the employee_group and employee_skill tables"
      ]
    },
    {
      "cell_type": "code",
      "metadata": {
        "id": "vn9RG0yQdrFs"
      },
      "source": [
        ""
      ],
      "execution_count": null,
      "outputs": []
    },
    {
      "cell_type": "markdown",
      "metadata": {
        "id": "zdhx59WSW1AK"
      },
      "source": [
        "## Specification of the Merge Key"
      ]
    },
    {
      "cell_type": "code",
      "metadata": {
        "id": "ViNC-XGzW1AP",
        "scrolled": true
      },
      "source": [
        "employee_salary = pd.DataFrame({'name': ['Bob', 'Jake', 'Lisa', 'Sue'],\n",
        "                                'salary': [70000, 80000, 120000, 90000]})\n",
        "employee_salary"
      ],
      "execution_count": null,
      "outputs": []
    },
    {
      "cell_type": "markdown",
      "metadata": {
        "id": "Gn6x_shmdrFw"
      },
      "source": [
        "#### Merge the employee_group and employee_hire_date tables and specify the employee column to join on. Assign the resulting table to employees"
      ]
    },
    {
      "cell_type": "code",
      "metadata": {
        "id": "triMRxBHdrFx"
      },
      "source": [
        "employees = \n",
        "employees"
      ],
      "execution_count": null,
      "outputs": []
    },
    {
      "cell_type": "markdown",
      "metadata": {
        "id": "xALn3KmYdrFz"
      },
      "source": [
        "#### Merge the employees and employee_supervisor tables and specify the group column to join on"
      ]
    },
    {
      "cell_type": "code",
      "metadata": {
        "scrolled": true,
        "id": "hmvvxegfdrFz"
      },
      "source": [
        ""
      ],
      "execution_count": null,
      "outputs": []
    },
    {
      "cell_type": "markdown",
      "metadata": {
        "id": "5Q85KJQGdrF2"
      },
      "source": [
        "#### Merge the employees and employee_salary tables"
      ]
    },
    {
      "cell_type": "code",
      "metadata": {
        "id": "ri-L2jpNdrF3"
      },
      "source": [
        ""
      ],
      "execution_count": null,
      "outputs": []
    },
    {
      "cell_type": "markdown",
      "metadata": {
        "id": "iG4ZLKZqdrF5"
      },
      "source": [
        "___"
      ]
    },
    {
      "cell_type": "code",
      "metadata": {
        "id": "qnXx870UdrF7"
      },
      "source": [
        "worker_indexed = worker.set_index('worker_id')\n",
        "title_indexed = title.set_index('worker_ref_id')\n",
        "\n",
        "display('worker_indexed', 'title_indexed')"
      ],
      "execution_count": null,
      "outputs": []
    },
    {
      "cell_type": "code",
      "metadata": {
        "id": "pZUYadLfW1AU"
      },
      "source": [
        "employee_group_indexed = employee_group.set_index('employee')\n",
        "employee_group_indexed"
      ],
      "execution_count": null,
      "outputs": []
    },
    {
      "cell_type": "markdown",
      "metadata": {
        "id": "IcrUpFnSdrF_"
      },
      "source": [
        "#### Merge the worker_indexed and title_indexed tables"
      ]
    },
    {
      "cell_type": "code",
      "metadata": {
        "id": "mqqN4xUBdrF_"
      },
      "source": [
        ""
      ],
      "execution_count": null,
      "outputs": []
    },
    {
      "cell_type": "markdown",
      "metadata": {
        "id": "5qKgGQbtdrGB"
      },
      "source": [
        "#### Merge the employee_group_indexed and employee_hire_date tables"
      ]
    },
    {
      "cell_type": "code",
      "metadata": {
        "id": "AGV9x2LadrGB"
      },
      "source": [
        ""
      ],
      "execution_count": null,
      "outputs": []
    },
    {
      "cell_type": "markdown",
      "metadata": {
        "id": "rlKh339aW1Am"
      },
      "source": [
        "## Specifying Set Arithmetic for Joins"
      ]
    },
    {
      "cell_type": "code",
      "metadata": {
        "id": "HCxGwBFCW1An"
      },
      "source": [
        "food = pd.DataFrame({'name': ['Peter', 'Paul', 'Mary'],\n",
        "                    'food': ['fish', 'beans', 'bread']},\n",
        "                   columns=['name', 'food'])\n",
        "drinks = pd.DataFrame({'name': ['Mary', 'Joseph'],\n",
        "                    'drink': ['wine', 'beer']},\n",
        "                   columns=['name', 'drink'])\n",
        "\n",
        "display('food', 'drinks')"
      ],
      "execution_count": null,
      "outputs": []
    },
    {
      "cell_type": "markdown",
      "metadata": {
        "id": "BSyceSs8drGI"
      },
      "source": [
        "#### What is the default join type when using the merge method? Add a 'how' parameter with the default join type"
      ]
    },
    {
      "cell_type": "code",
      "metadata": {
        "id": "Ok7hTPmsdrGJ"
      },
      "source": [
        ""
      ],
      "execution_count": null,
      "outputs": []
    },
    {
      "cell_type": "markdown",
      "metadata": {
        "id": "ZTK45gECdrGN"
      },
      "source": [
        "#### Merge the food and drinks tables leaving all names from both tables in"
      ]
    },
    {
      "cell_type": "code",
      "metadata": {
        "id": "MEzAwAnqdrGP"
      },
      "source": [
        ""
      ],
      "execution_count": null,
      "outputs": []
    },
    {
      "cell_type": "markdown",
      "metadata": {
        "id": "oJO_bQbadrGR"
      },
      "source": [
        "#### Merge food and drinks leaving only rows that have a defined food"
      ]
    },
    {
      "cell_type": "code",
      "metadata": {
        "id": "GAGdJog9drGR"
      },
      "source": [
        ""
      ],
      "execution_count": null,
      "outputs": []
    },
    {
      "cell_type": "markdown",
      "metadata": {
        "id": "Ao2jIQ3udrGV"
      },
      "source": [
        "#### Merge food and drinks leaving only row that have a defined drink"
      ]
    },
    {
      "cell_type": "code",
      "metadata": {
        "id": "m8RxsuWldrGW"
      },
      "source": [
        ""
      ],
      "execution_count": null,
      "outputs": []
    },
    {
      "cell_type": "markdown",
      "metadata": {
        "id": "U7AnBlzpW1Ay"
      },
      "source": [
        "## Overlapping Column Names: The ``suffixes`` Keyword"
      ]
    },
    {
      "cell_type": "markdown",
      "metadata": {
        "id": "u1SXwCCdW1Az"
      },
      "source": [
        "Finally, you may end up in a case where your two input ``DataFrame``s have conflicting column names.\n",
        "Consider this example:"
      ]
    },
    {
      "cell_type": "code",
      "metadata": {
        "id": "GHEp7e5PW1Az"
      },
      "source": [
        "df1 = pd.DataFrame({'name': ['Bob', 'Jake', 'Lisa', 'Sue'],\n",
        "                    'rank': [1, 2, 3, 4]})\n",
        "df2 = pd.DataFrame({'name': ['Bob', 'Jake', 'Lisa', 'Sue'],\n",
        "                    'rank': [3, 1, 4, 2]})\n",
        "display('df1', 'df2')"
      ],
      "execution_count": null,
      "outputs": []
    },
    {
      "cell_type": "markdown",
      "metadata": {
        "id": "to-DZ4IOdrGa"
      },
      "source": [
        "#### Merge df1 and df2 on the name column using the default suffixes"
      ]
    },
    {
      "cell_type": "code",
      "metadata": {
        "id": "gljEnlY6drGb"
      },
      "source": [
        ""
      ],
      "execution_count": null,
      "outputs": []
    },
    {
      "cell_type": "markdown",
      "metadata": {
        "id": "O4kQFHQVW1A2"
      },
      "source": [
        "#### Merge df1 and df2 on the name column again, but this time define a set a suffixes for pandas to use"
      ]
    },
    {
      "cell_type": "code",
      "metadata": {
        "id": "euG_uwJrW1A2"
      },
      "source": [
        ""
      ],
      "execution_count": null,
      "outputs": []
    },
    {
      "cell_type": "markdown",
      "metadata": {
        "id": "NOfTzu_sW1A5"
      },
      "source": [
        "## Example: US States Data"
      ]
    },
    {
      "cell_type": "code",
      "metadata": {
        "id": "jEjEXNCvW1A6",
        "scrolled": true
      },
      "source": [
        "#import states_population.csv, states_areas.csv, states_abbrevs.csv from the link below\n",
        "#https://bit.ly/3gsZdUS\n",
        "\n",
        "#name dataframes to pop, areas, abbrevs and display using code below\n",
        "display('pop.head()', 'areas.head()', 'abbrevs.head()')"
      ],
      "execution_count": null,
      "outputs": []
    },
    {
      "cell_type": "markdown",
      "metadata": {
        "id": "eNwpAjoDdrGo"
      },
      "source": [
        "### We'll be using merges and joins to calculate statistics about state population. Our ultimate goal is to calculate the state with the largest population density in 2010"
      ]
    },
    {
      "cell_type": "markdown",
      "metadata": {
        "id": "F1ySb8ZgdrGq"
      },
      "source": [
        "#### First, we need to merge our tables together. Merge the pop and abbrevs tables. Drop the redundant abbreviation column"
      ]
    },
    {
      "cell_type": "code",
      "metadata": {
        "id": "Zg1kaQvkW1A-"
      },
      "source": [
        ""
      ],
      "execution_count": null,
      "outputs": []
    },
    {
      "cell_type": "markdown",
      "metadata": {
        "id": "k6SDDJ7oW1BA"
      },
      "source": [
        "#### It's important to check if the data is valid. Check if there are any nulls in the table"
      ]
    },
    {
      "cell_type": "code",
      "metadata": {
        "id": "NOjana5eW1BB"
      },
      "source": [
        ""
      ],
      "execution_count": null,
      "outputs": []
    },
    {
      "cell_type": "markdown",
      "metadata": {
        "id": "2mU2821aW1BD"
      },
      "source": [
        "#### As you can see, there are null values for population and state. Display a table filtered for rows with a null state and one for rows with a null population. Figure out what is wrong with the data using the displayed tables"
      ]
    },
    {
      "cell_type": "code",
      "metadata": {
        "id": "EBW1cWR4W1BD",
        "scrolled": true
      },
      "source": [
        ""
      ],
      "execution_count": null,
      "outputs": []
    },
    {
      "cell_type": "markdown",
      "metadata": {
        "id": "0_j2XZkxdrGw"
      },
      "source": [
        "#### The issues are that Puerto Rico and the entire USA area do not exist in the abbrev table and Puerto Rico lacks population data before 2000. In this case, we will drop the missing data because we only care about states. Drop any null rows from merged"
      ]
    },
    {
      "cell_type": "code",
      "metadata": {
        "id": "fyNYvn3JdrGx"
      },
      "source": [
        ""
      ],
      "execution_count": null,
      "outputs": []
    },
    {
      "cell_type": "markdown",
      "metadata": {
        "id": "WXRb0yIPdrG0"
      },
      "source": [
        "#### Now you can continue merging tables. Merge the merged and areas tables and store the results in final"
      ]
    },
    {
      "cell_type": "code",
      "metadata": {
        "id": "5LCGvtsUdrG1"
      },
      "source": [
        ""
      ],
      "execution_count": null,
      "outputs": []
    },
    {
      "cell_type": "markdown",
      "metadata": {
        "id": "PyZEFNHqdrG4"
      },
      "source": [
        "#### Check for nulls in the resulting table"
      ]
    },
    {
      "cell_type": "code",
      "metadata": {
        "id": "5RarG1IidrG5"
      },
      "source": [
        ""
      ],
      "execution_count": null,
      "outputs": []
    },
    {
      "cell_type": "markdown",
      "metadata": {
        "id": "5Go7c1fbdrHC"
      },
      "source": [
        "#### The final table contains no nulls so you can continue. Filter the final table for rows where ages is total and year is 2010. You may use the query method. Store the result in pop_2010 and set the index to state"
      ]
    },
    {
      "cell_type": "code",
      "metadata": {
        "id": "kM8bv7CPdrHD"
      },
      "source": [
        ""
      ],
      "execution_count": null,
      "outputs": []
    },
    {
      "cell_type": "markdown",
      "metadata": {
        "id": "0PBYYaURdrHG"
      },
      "source": [
        "#### Now you can calculate the final result. Calculate and create a series 'density' from the columns of pop_2010. Then, sort the values of this series. Print the final result"
      ]
    },
    {
      "cell_type": "code",
      "metadata": {
        "id": "edLSAa3WdrHH"
      },
      "source": [
        ""
      ],
      "execution_count": null,
      "outputs": []
    }
  ]
}